{
 "cells": [
  {
   "cell_type": "markdown",
   "id": "532a4a20",
   "metadata": {},
   "source": [
    "Самостоятельное задание №1"
   ]
  },
  {
   "cell_type": "code",
   "execution_count": 4,
   "id": "8a10aaa7",
   "metadata": {},
   "outputs": [],
   "source": [
    "a = True"
   ]
  },
  {
   "cell_type": "code",
   "execution_count": 5,
   "id": "cc4e59c0",
   "metadata": {},
   "outputs": [],
   "source": [
    "b = False"
   ]
  },
  {
   "cell_type": "markdown",
   "id": "f360ea5f",
   "metadata": {},
   "source": [
    "1. a and b"
   ]
  },
  {
   "cell_type": "code",
   "execution_count": 6,
   "id": "0b98b089",
   "metadata": {},
   "outputs": [
    {
     "name": "stdout",
     "output_type": "stream",
     "text": [
      "False\n"
     ]
    }
   ],
   "source": [
    "print(a&b)"
   ]
  },
  {
   "cell_type": "markdown",
   "id": "e9826181",
   "metadata": {},
   "source": [
    "2. (a and b) or b"
   ]
  },
  {
   "cell_type": "code",
   "execution_count": 11,
   "id": "d88850e0",
   "metadata": {},
   "outputs": [
    {
     "name": "stdout",
     "output_type": "stream",
     "text": [
      "False\n"
     ]
    }
   ],
   "source": [
    "print((a and b) or b)"
   ]
  },
  {
   "cell_type": "markdown",
   "id": "dad9f0d8",
   "metadata": {},
   "source": [
    "3. (a and b) or not (a and b)"
   ]
  },
  {
   "cell_type": "code",
   "execution_count": 12,
   "id": "2b1987bc",
   "metadata": {},
   "outputs": [
    {
     "name": "stdout",
     "output_type": "stream",
     "text": [
      "True\n"
     ]
    }
   ],
   "source": [
    "print((a and b) or not (a and b))"
   ]
  },
  {
   "cell_type": "markdown",
   "id": "cad20116",
   "metadata": {},
   "source": [
    "4. a and b or not (a or b) or b"
   ]
  },
  {
   "cell_type": "code",
   "execution_count": 13,
   "id": "2e03c70e",
   "metadata": {},
   "outputs": [
    {
     "name": "stdout",
     "output_type": "stream",
     "text": [
      "False\n"
     ]
    }
   ],
   "source": [
    "print(a and b or not (a or b) or b)"
   ]
  },
  {
   "cell_type": "markdown",
   "id": "386dbcda",
   "metadata": {},
   "source": [
    "5. b and b or not a and (a or b or a) or not (a or b)"
   ]
  },
  {
   "cell_type": "code",
   "execution_count": 14,
   "id": "d7a0a970",
   "metadata": {},
   "outputs": [
    {
     "name": "stdout",
     "output_type": "stream",
     "text": [
      "False\n"
     ]
    }
   ],
   "source": [
    "print(b and b or not a and (a or b or a) or not (a or b))"
   ]
  },
  {
   "cell_type": "markdown",
   "id": "0a78fd83",
   "metadata": {},
   "source": [
    "6. 1 << 2"
   ]
  },
  {
   "cell_type": "code",
   "execution_count": 15,
   "id": "71c34ca6",
   "metadata": {},
   "outputs": [
    {
     "data": {
      "text/plain": [
       "4"
      ]
     },
     "execution_count": 15,
     "metadata": {},
     "output_type": "execute_result"
    }
   ],
   "source": [
    "1 << 2"
   ]
  },
  {
   "cell_type": "markdown",
   "id": "7744c5f3",
   "metadata": {},
   "source": [
    "7. 1 & 0 | 1 >> 1"
   ]
  },
  {
   "cell_type": "code",
   "execution_count": 24,
   "id": "4fa8a6e2",
   "metadata": {},
   "outputs": [
    {
     "name": "stdout",
     "output_type": "stream",
     "text": [
      "0\n"
     ]
    }
   ],
   "source": [
    "print(1&0|1>>1)"
   ]
  },
  {
   "cell_type": "markdown",
   "id": "96b67308",
   "metadata": {},
   "source": [
    "8. 1 & 0 | 1 >> 0"
   ]
  },
  {
   "cell_type": "code",
   "execution_count": 25,
   "id": "59e748e6",
   "metadata": {},
   "outputs": [
    {
     "data": {
      "text/plain": [
       "1"
      ]
     },
     "execution_count": 25,
     "metadata": {},
     "output_type": "execute_result"
    }
   ],
   "source": [
    "1 & 0 | 1 >> 0"
   ]
  },
  {
   "cell_type": "markdown",
   "id": "cde800ea",
   "metadata": {},
   "source": [
    "9. 0b101 & 0b111 ^ 0b111 | 0b010 Комментарий: \"0b101\" - запись числа \"5\" на языке Python в двоичном виде"
   ]
  },
  {
   "cell_type": "code",
   "execution_count": 26,
   "id": "8f7a8365",
   "metadata": {},
   "outputs": [
    {
     "data": {
      "text/plain": [
       "2"
      ]
     },
     "execution_count": 26,
     "metadata": {},
     "output_type": "execute_result"
    }
   ],
   "source": [
    "0b101 & 0b111 ^ 0b111 | 0b010"
   ]
  }
 ],
 "metadata": {
  "kernelspec": {
   "display_name": "Python 3 (ipykernel)",
   "language": "python",
   "name": "python3"
  },
  "language_info": {
   "codemirror_mode": {
    "name": "ipython",
    "version": 3
   },
   "file_extension": ".py",
   "mimetype": "text/x-python",
   "name": "python",
   "nbconvert_exporter": "python",
   "pygments_lexer": "ipython3",
   "version": "3.9.7"
  }
 },
 "nbformat": 4,
 "nbformat_minor": 5
}
