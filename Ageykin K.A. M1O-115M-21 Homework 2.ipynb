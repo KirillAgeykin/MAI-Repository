{
 "cells": [
  {
   "cell_type": "markdown",
   "id": "ee0dbb75",
   "metadata": {},
   "source": [
    "Самостоятельная работа №2"
   ]
  },
  {
   "cell_type": "markdown",
   "id": "f8a9da4d",
   "metadata": {},
   "source": [
    "Задание 1"
   ]
  },
  {
   "cell_type": "markdown",
   "id": "88edbd63",
   "metadata": {},
   "source": [
    "Допишите функцию, которая принимает 2 числа, сравнивает между собой и возвращает наименьшее."
   ]
  },
  {
   "cell_type": "code",
   "execution_count": 17,
   "id": "bf381671",
   "metadata": {},
   "outputs": [],
   "source": [
    "a = 555"
   ]
  },
  {
   "cell_type": "code",
   "execution_count": 18,
   "id": "221f7322",
   "metadata": {},
   "outputs": [],
   "source": [
    "b = 666"
   ]
  },
  {
   "cell_type": "code",
   "execution_count": 19,
   "id": "d0ea6a65",
   "metadata": {},
   "outputs": [
    {
     "name": "stdout",
     "output_type": "stream",
     "text": [
      "555\n"
     ]
    }
   ],
   "source": [
    "if a>b:\n",
    "    print(b)\n",
    "elif a<b:\n",
    "    print(a)\n",
    "else:\n",
    "    print(\"a = b\")"
   ]
  },
  {
   "cell_type": "markdown",
   "id": "9ce328de",
   "metadata": {},
   "source": [
    "Задание 2"
   ]
  },
  {
   "cell_type": "markdown",
   "id": "811b1a9b",
   "metadata": {},
   "source": [
    "Допишите функцию, которая принимает 3 числа, сравнивает между собой и возвращает наименьшее."
   ]
  },
  {
   "cell_type": "code",
   "execution_count": 20,
   "id": "279eb272",
   "metadata": {},
   "outputs": [],
   "source": [
    "a = 2"
   ]
  },
  {
   "cell_type": "code",
   "execution_count": 21,
   "id": "e5041645",
   "metadata": {},
   "outputs": [],
   "source": [
    "import math"
   ]
  },
  {
   "cell_type": "code",
   "execution_count": 22,
   "id": "d17a6330",
   "metadata": {},
   "outputs": [],
   "source": [
    "b = math.pi"
   ]
  },
  {
   "cell_type": "code",
   "execution_count": 23,
   "id": "0ae84c3e",
   "metadata": {},
   "outputs": [],
   "source": [
    "c = 3.5"
   ]
  },
  {
   "cell_type": "code",
   "execution_count": 24,
   "id": "9b7d6ae2",
   "metadata": {},
   "outputs": [
    {
     "name": "stdout",
     "output_type": "stream",
     "text": [
      "2\n"
     ]
    }
   ],
   "source": [
    "if a<b and a<c:\n",
    "    print(a)\n",
    "elif b<a and b<c:\n",
    "    print(b)\n",
    "elif c<a and c<b:\n",
    "    print(c)\n",
    "elif a==b or a==c:\n",
    "    print(a)\n",
    "else:\n",
    "    print(c)"
   ]
  },
  {
   "cell_type": "markdown",
   "id": "f27841f5",
   "metadata": {},
   "source": [
    "Задание 3"
   ]
  },
  {
   "cell_type": "markdown",
   "id": "6c881cae",
   "metadata": {},
   "source": [
    "Допишите функцию, которая принимает 3 числа, сравнивает между собой и возвращает количество совпадающих чисел. Соответственно, программа может возвращать одно из трех чисел: 3 - если совпадают все, 2 - если совпадают 2 числа, 0 - если все числа различны."
   ]
  },
  {
   "cell_type": "code",
   "execution_count": 25,
   "id": "5328723e",
   "metadata": {},
   "outputs": [],
   "source": [
    "a = 3"
   ]
  },
  {
   "cell_type": "code",
   "execution_count": 28,
   "id": "68977b98",
   "metadata": {},
   "outputs": [],
   "source": [
    "b = 1"
   ]
  },
  {
   "cell_type": "code",
   "execution_count": 29,
   "id": "cb34a66a",
   "metadata": {},
   "outputs": [],
   "source": [
    "c = 1"
   ]
  },
  {
   "cell_type": "code",
   "execution_count": 30,
   "id": "eaba1c37",
   "metadata": {},
   "outputs": [
    {
     "name": "stdout",
     "output_type": "stream",
     "text": [
      "2\n"
     ]
    }
   ],
   "source": [
    "if a==b and a==c:\n",
    "    print(3)\n",
    "elif a==b or b==c or a==c:\n",
    "    print(2)\n",
    "else:\n",
    "    print(0)"
   ]
  },
  {
   "cell_type": "code",
   "execution_count": null,
   "id": "5cab3bb4",
   "metadata": {},
   "outputs": [],
   "source": []
  }
 ],
 "metadata": {
  "kernelspec": {
   "display_name": "Python 3 (ipykernel)",
   "language": "python",
   "name": "python3"
  },
  "language_info": {
   "codemirror_mode": {
    "name": "ipython",
    "version": 3
   },
   "file_extension": ".py",
   "mimetype": "text/x-python",
   "name": "python",
   "nbconvert_exporter": "python",
   "pygments_lexer": "ipython3",
   "version": "3.9.7"
  }
 },
 "nbformat": 4,
 "nbformat_minor": 5
}
