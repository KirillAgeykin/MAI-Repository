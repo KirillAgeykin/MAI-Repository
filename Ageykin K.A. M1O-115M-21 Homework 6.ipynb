{
 "cells": [
  {
   "cell_type": "markdown",
   "id": "7c86e958",
   "metadata": {},
   "source": [
    "Самостоятельное задание №6"
   ]
  },
  {
   "cell_type": "markdown",
   "id": "a869961c",
   "metadata": {},
   "source": [
    "Задание 1"
   ]
  },
  {
   "cell_type": "markdown",
   "id": "43234e47",
   "metadata": {},
   "source": [
    "Допишите функцию, которая принимает несколько параметров. Первый параметр - словарь, второй параметр - один из ключей данного словаря. Функция должна выводить значение этого ключа."
   ]
  },
  {
   "cell_type": "code",
   "execution_count": 9,
   "id": "1242e167",
   "metadata": {},
   "outputs": [],
   "source": [
    "d = {'black': 1, 'white': 2, 'orange': 3, 'blue': 4}"
   ]
  },
  {
   "cell_type": "code",
   "execution_count": 10,
   "id": "67b7d30a",
   "metadata": {},
   "outputs": [],
   "source": [
    "k = 'white'"
   ]
  },
  {
   "cell_type": "code",
   "execution_count": 11,
   "id": "3c3816e4",
   "metadata": {},
   "outputs": [
    {
     "name": "stdout",
     "output_type": "stream",
     "text": [
      "2\n"
     ]
    }
   ],
   "source": [
    "print(d[k])"
   ]
  },
  {
   "cell_type": "code",
   "execution_count": null,
   "id": "f3cd447c",
   "metadata": {},
   "outputs": [],
   "source": []
  }
 ],
 "metadata": {
  "kernelspec": {
   "display_name": "Python 3 (ipykernel)",
   "language": "python",
   "name": "python3"
  },
  "language_info": {
   "codemirror_mode": {
    "name": "ipython",
    "version": 3
   },
   "file_extension": ".py",
   "mimetype": "text/x-python",
   "name": "python",
   "nbconvert_exporter": "python",
   "pygments_lexer": "ipython3",
   "version": "3.9.7"
  }
 },
 "nbformat": 4,
 "nbformat_minor": 5
}
