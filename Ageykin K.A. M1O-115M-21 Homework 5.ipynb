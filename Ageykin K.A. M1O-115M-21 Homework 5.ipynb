{
 "cells": [
  {
   "cell_type": "markdown",
   "id": "02628089",
   "metadata": {},
   "source": [
    "Самостоятельное задание №5"
   ]
  },
  {
   "cell_type": "markdown",
   "id": "4587dcd2",
   "metadata": {},
   "source": [
    "Задание 1"
   ]
  },
  {
   "cell_type": "markdown",
   "id": "cffa141b",
   "metadata": {},
   "source": [
    "Допишите функцию, которая принимает список, выбирает из него все элементы с четным индексом и возвращает их в виде списка."
   ]
  },
  {
   "cell_type": "code",
   "execution_count": 21,
   "id": "5b797d33",
   "metadata": {},
   "outputs": [],
   "source": [
    "word = ['A', 'g', 'e', 'y', 'k', 'i', 'n']"
   ]
  },
  {
   "cell_type": "code",
   "execution_count": 22,
   "id": "1fb733f3",
   "metadata": {},
   "outputs": [
    {
     "name": "stdout",
     "output_type": "stream",
     "text": [
      "['A', 'e', 'k', 'n']\n"
     ]
    }
   ],
   "source": [
    "a = []\n",
    "for i in range (int(len(word)/2+0.5)): #0.5 чтобы добавить последнюю букву если word - нечетное\n",
    "    a.append(word[i*2])\n",
    "print(a)"
   ]
  },
  {
   "cell_type": "markdown",
   "id": "05e9a370",
   "metadata": {},
   "source": [
    "Задание 2"
   ]
  },
  {
   "cell_type": "markdown",
   "id": "c514ee07",
   "metadata": {},
   "source": [
    "Допишите функцию, которая принимает список, выбирает из него все элементы, которые больше предыдущего и возвращает их в виде списка."
   ]
  },
  {
   "cell_type": "code",
   "execution_count": 23,
   "id": "d11428d9",
   "metadata": {},
   "outputs": [],
   "source": [
    "number = [1, 3, 10, 5, 7, 4, 14, 39, 66, 35, 78, 88, 28, 81]"
   ]
  },
  {
   "cell_type": "code",
   "execution_count": 24,
   "id": "52757f77",
   "metadata": {},
   "outputs": [
    {
     "name": "stdout",
     "output_type": "stream",
     "text": [
      "[3, 10, 7, 14, 39, 66, 78, 88, 81]\n"
     ]
    }
   ],
   "source": [
    "a.clear()\n",
    "for i in range (len(number)):\n",
    "    if number[i-1] < number[i]:\n",
    "        a.append(number[i])\n",
    "print(a)"
   ]
  },
  {
   "cell_type": "markdown",
   "id": "68e1f006",
   "metadata": {},
   "source": [
    "Задание 3"
   ]
  },
  {
   "cell_type": "markdown",
   "id": "1ac45ae4",
   "metadata": {},
   "source": [
    "Допишите функцию, которая принимает список, меняет местами наибольший и наименьший элементы и возвращает этот список."
   ]
  },
  {
   "cell_type": "code",
   "execution_count": 25,
   "id": "a004d908",
   "metadata": {},
   "outputs": [
    {
     "name": "stdout",
     "output_type": "stream",
     "text": [
      "[1, 3, 10, 5, 7, 4, 14, 39, 66, 35, 78, 88, 28, 81]\n",
      "[88, 3, 10, 5, 7, 4, 14, 39, 66, 35, 78, 1, 28, 81]\n"
     ]
    }
   ],
   "source": [
    "a = number.copy()\n",
    "maxNumberIndex = number.index(max(number)) #переменная запоминающая номер максимального числа\n",
    "maxNumber = max(number) #переменная запоминающая максимальное число\n",
    "minNumberIndex = number.index(min(number)) #переменная запоминающая номер минимального числа\n",
    "minNumber = min(number) #переменная запоминающая минимальное число\n",
    "\n",
    "print(a)\n",
    "\n",
    "a.pop(maxNumberIndex) #удалить максимальное число\n",
    "a.insert(maxNumberIndex, min(number)) #вставить минимальное число на место максимального\n",
    "a.pop(minNumberIndex) #удалить минимальное число\n",
    "a.insert(minNumberIndex, maxNumber) #вставить максимальное число на место минимального\n",
    "\n",
    "number = a.copy()\n",
    "print(number)"
   ]
  },
  {
   "cell_type": "code",
   "execution_count": null,
   "id": "676701d7",
   "metadata": {},
   "outputs": [],
   "source": []
  }
 ],
 "metadata": {
  "kernelspec": {
   "display_name": "Python 3 (ipykernel)",
   "language": "python",
   "name": "python3"
  },
  "language_info": {
   "codemirror_mode": {
    "name": "ipython",
    "version": 3
   },
   "file_extension": ".py",
   "mimetype": "text/x-python",
   "name": "python",
   "nbconvert_exporter": "python",
   "pygments_lexer": "ipython3",
   "version": "3.9.7"
  }
 },
 "nbformat": 4,
 "nbformat_minor": 5
}
