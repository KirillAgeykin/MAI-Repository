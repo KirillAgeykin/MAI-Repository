{
 "cells": [
  {
   "cell_type": "markdown",
   "id": "8209ee88",
   "metadata": {},
   "source": [
    "Самостоятельное задание №7"
   ]
  },
  {
   "cell_type": "markdown",
   "id": "a411030b",
   "metadata": {},
   "source": [
    "Задание 1"
   ]
  },
  {
   "cell_type": "markdown",
   "id": "2c043a91",
   "metadata": {},
   "source": [
    "Допишите функцию, которая принимает список чисел и, с помощью множеств, определяет количество различных чисел внутри списка."
   ]
  },
  {
   "cell_type": "code",
   "execution_count": 19,
   "id": "3150e7aa",
   "metadata": {},
   "outputs": [],
   "source": [
    "a = {33, 17, 25, 0, 3, 7, 2, 99, 98, 0, 25, 17}"
   ]
  },
  {
   "cell_type": "code",
   "execution_count": 20,
   "id": "dafe7eb3",
   "metadata": {},
   "outputs": [
    {
     "name": "stdout",
     "output_type": "stream",
     "text": [
      "9\n"
     ]
    }
   ],
   "source": [
    "print(len(set(a)))"
   ]
  },
  {
   "cell_type": "markdown",
   "id": "9bd0de85",
   "metadata": {},
   "source": [
    "Задание 2"
   ]
  },
  {
   "cell_type": "markdown",
   "id": "7d19bd8b",
   "metadata": {},
   "source": [
    "Допишите функцию, которая принимает несколько списков чисел и, с помощью множеств, определяет количество общих чисел из первого и второго списка."
   ]
  },
  {
   "cell_type": "code",
   "execution_count": 21,
   "id": "cb229b20",
   "metadata": {},
   "outputs": [],
   "source": [
    "b = {0, 99, 98, 64, 123, 256, 512}"
   ]
  },
  {
   "cell_type": "code",
   "execution_count": 22,
   "id": "5f0cb7f4",
   "metadata": {},
   "outputs": [
    {
     "name": "stdout",
     "output_type": "stream",
     "text": [
      "3\n"
     ]
    }
   ],
   "source": [
    "print(len(set(a.intersection(b))))"
   ]
  },
  {
   "cell_type": "code",
   "execution_count": null,
   "id": "b63fda91",
   "metadata": {},
   "outputs": [],
   "source": []
  }
 ],
 "metadata": {
  "kernelspec": {
   "display_name": "Python 3 (ipykernel)",
   "language": "python",
   "name": "python3"
  },
  "language_info": {
   "codemirror_mode": {
    "name": "ipython",
    "version": 3
   },
   "file_extension": ".py",
   "mimetype": "text/x-python",
   "name": "python",
   "nbconvert_exporter": "python",
   "pygments_lexer": "ipython3",
   "version": "3.9.7"
  }
 },
 "nbformat": 4,
 "nbformat_minor": 5
}
